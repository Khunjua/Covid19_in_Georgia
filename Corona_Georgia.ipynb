{
 "cells": [
  {
   "cell_type": "markdown",
   "metadata": {},
   "source": [
    "## $R_0$ calculation (Georgia 2nd wave)"
   ]
  },
  {
   "cell_type": "code",
   "execution_count": 1,
   "metadata": {
    "pycharm": {
     "is_executing": false
    }
   },
   "outputs": [],
   "source": [
    "import math\n",
    "\n",
    "import numpy as np\n",
    "import pandas as pd\n",
    "\n",
    "from scipy.optimize import curve_fit\n",
    "from statsmodels.api import OLS\n",
    "from statsmodels.tools.tools import add_constant\n",
    "\n",
    "from uncertainties import ufloat \n",
    "\n",
    "from scipy.optimize import curve_fit\n",
    "from sklearn.metrics import r2_score\n",
    "\n",
    "from bokeh.plotting import figure, output_notebook, show#, output_file\n",
    "from bokeh.models import ColumnDataSource, HoverTool, WheelZoomTool, PanTool, ResetTool, ColorBar, DatetimeTickFormatter"
   ]
  },
  {
   "cell_type": "markdown",
   "metadata": {},
   "source": [
    "## Import from the John Hopkins GitHub resource"
   ]
  },
  {
   "cell_type": "code",
   "execution_count": 2,
   "metadata": {},
   "outputs": [],
   "source": [
    "I_list = pd.read_csv(\"https://raw.githubusercontent.com/CSSEGISandData/COVID-19/master/csse_covid_19_data/csse_covid_19_time_series/time_series_covid19_confirmed_global.csv\", sep=',', low_memory=False)\n",
    "D_list = pd.read_csv(\"https://raw.githubusercontent.com/CSSEGISandData/COVID-19/master/csse_covid_19_data/csse_covid_19_time_series/time_series_covid19_deaths_global.csv\", sep=',', low_memory=False)\n",
    "R_list = pd.read_csv(\"https://raw.githubusercontent.com/CSSEGISandData/COVID-19/master/csse_covid_19_data/csse_covid_19_time_series/time_series_covid19_recovered_global.csv\", sep=',', low_memory=False)"
   ]
  },
  {
   "cell_type": "markdown",
   "metadata": {},
   "source": [
    "## From raw table to the structured data"
   ]
  },
  {
   "cell_type": "code",
   "execution_count": 3,
   "metadata": {},
   "outputs": [],
   "source": [
    "Country = 'Georgia' #'Armenia', 'Azerbaijan'"
   ]
  },
  {
   "cell_type": "code",
   "execution_count": 14,
   "metadata": {},
   "outputs": [],
   "source": [
    "I_list_country=I_list.drop(columns=[ 'Lat','Long','Province/State'])\n",
    "I_list_country = I_list_country.set_index('Country/Region')\n",
    "I_list_country=I_list_country.T\n",
    "I_list_country[Country]\n",
    "\n",
    "D_list_country = D_list.drop(columns=[ 'Lat','Long','Province/State'])\n",
    "D_list_country = D_list_country.set_index('Country/Region')\n",
    "D_list_country = D_list_country.T\n",
    "D_list_country[Country]\n",
    "\n",
    "R_list_country=R_list.drop(columns=[ 'Lat','Long','Province/State'])\n",
    "R_list_country = R_list_country.set_index('Country/Region')\n",
    "R_list_country=R_list_country.T\n",
    "R_list_country[Country]\n",
    "\n",
    "confirmed = np.array (I_list_country[Country]) #an array of confirmed since 22/1/2020\n",
    "confirmed = np.append (confirmed, [6192])\n",
    "\n",
    "recover = np.array (R_list_country[Country]) #an array of recovered since 22/1/2020\n",
    "recover = np.append (recover, [3120])\n",
    "\n",
    "death = np.array (D_list_country[Country]) #an array of dead since 22/1/2020\n",
    "death = np.append (death, [39])\n",
    "\n",
    "dates = pd.date_range('20200122', periods=len(confirmed))"
   ]
  },
  {
   "cell_type": "code",
   "execution_count": 15,
   "metadata": {},
   "outputs": [],
   "source": [
    "First_day = 205 #14 August 2020 is approxemately the first day of the second wave\n",
    "Last_day  = len(dates)\n",
    "\n",
    "# dates[205]"
   ]
  },
  {
   "cell_type": "code",
   "execution_count": 16,
   "metadata": {},
   "outputs": [
    {
     "data": {
      "text/plain": [
       "48"
      ]
     },
     "execution_count": 16,
     "metadata": {},
     "output_type": "execute_result"
    }
   ],
   "source": [
    "C_Data = pd.DataFrame({'Date':dates ,'Infectious': confirmed, 'Recover': recover, 'Death':death})\n",
    "\n",
    "first_infect = C_Data.ne(0).idxmax().Infectious\n",
    "first_recover = C_Data.ne(0).idxmax().Recover\n",
    "first_death = C_Data.ne(0).idxmax().Death\n",
    "\n",
    "C_Data = C_Data.iloc[First_day:Last_day, :]\n",
    "len(C_Data)"
   ]
  },
  {
   "cell_type": "markdown",
   "metadata": {},
   "source": [
    "## Fitting"
   ]
  },
  {
   "cell_type": "markdown",
   "metadata": {},
   "source": [
    "\\begin{equation}\n",
    "\\begin{split}\n",
    "    f(x; a, b, c) &=& a e^{bx} + c \\qquad\\qquad\\qquad\\qquad\\quad – > \\mbox{ exp_function}\\\\\n",
    "    f(x; a, b, c, d) &=& \\frac{a}{1 + \\exp({-c (x-d)})} + b \\qquad – > \\mbox{ logistic_function}\n",
    "\\end{split}\n",
    "\\end{equation}"
   ]
  },
  {
   "cell_type": "code",
   "execution_count": 7,
   "metadata": {},
   "outputs": [],
   "source": [
    "exp_function = lambda x, a, b, c: a*(math.e**(b*x)+c)\n",
    "logistic_function = lambda x, a, b, c, d: a / (1 + np.exp(-c * (x - d))) + b"
   ]
  },
  {
   "cell_type": "code",
   "execution_count": 8,
   "metadata": {},
   "outputs": [],
   "source": [
    "xdata = np.linspace(1, len(C_Data), len(C_Data))\n",
    "ydata = np.array(C_Data['Infectious'])"
   ]
  },
  {
   "cell_type": "code",
   "execution_count": 9,
   "metadata": {},
   "outputs": [],
   "source": [
    "exp_params, exp_cov = curve_fit(exp_function, xdata, ydata, p0 = [0, 0, 0])\n",
    "# log_params, log_cov = curve_fit(logistic_function, xdata, ydata, p0 = [0, 0, 0, 0]) -- logistic curve"
   ]
  },
  {
   "cell_type": "code",
   "execution_count": 10,
   "metadata": {},
   "outputs": [],
   "source": [
    "# confirmed_pred_log = logistic_function(xdata, al_, bl_, cl_, dl_)\n",
    "C_Data['Exp_est'] = exp_function(xdata, *exp_params)\n",
    "R2 = r2_score(ydata,exp_function(xdata, *exp_params))\n",
    "Lambda = round(exp_params[1],2)\n",
    "Lambda_sd = math.sqrt(exp_cov[1,1])"
   ]
  },
  {
   "cell_type": "markdown",
   "metadata": {},
   "source": [
    "## $R_0$ calculation with uncertainties"
   ]
  },
  {
   "cell_type": "markdown",
   "metadata": {},
   "source": [
    "\\begin{equation}\n",
    "R_0=\\frac{(\\sigma+\\lambda)(\\gamma+\\lambda)}{\\sigma\\gamma}\n",
    "\\end{equation}"
   ]
  },
  {
   "cell_type": "code",
   "execution_count": 12,
   "metadata": {},
   "outputs": [
    {
     "data": {
      "text/plain": [
       "'2.37+/-0.22'"
      ]
     },
     "execution_count": 12,
     "metadata": {},
     "output_type": "execute_result"
    }
   ],
   "source": [
    "Gamma = ufloat (1/6, 0.03)\n",
    "Sigma = ufloat (1/6, 0.03)\n",
    "Lambda_err = ufloat (Lambda, Lambda_sd)\n",
    "R0 = (Sigma + Lambda_err) * (Gamma + Lambda_err)/(Sigma*Gamma)\n",
    "str(R0)"
   ]
  },
  {
   "cell_type": "markdown",
   "metadata": {},
   "source": [
    "## Bokeh plot"
   ]
  },
  {
   "cell_type": "code",
   "execution_count": 13,
   "metadata": {
    "tags": []
   },
   "outputs": [
    {
     "data": {
      "text/html": [
       "\n",
       "    <div class=\"bk-root\">\n",
       "        <a href=\"https://bokeh.org\" target=\"_blank\" class=\"bk-logo bk-logo-small bk-logo-notebook\"></a>\n",
       "        <span id=\"1051\">Loading BokehJS ...</span>\n",
       "    </div>"
      ]
     },
     "metadata": {},
     "output_type": "display_data"
    },
    {
     "data": {
      "application/javascript": [
       "\n",
       "(function(root) {\n",
       "  function now() {\n",
       "    return new Date();\n",
       "  }\n",
       "\n",
       "  var force = true;\n",
       "\n",
       "  if (typeof root._bokeh_onload_callbacks === \"undefined\" || force === true) {\n",
       "    root._bokeh_onload_callbacks = [];\n",
       "    root._bokeh_is_loading = undefined;\n",
       "  }\n",
       "\n",
       "  var JS_MIME_TYPE = 'application/javascript';\n",
       "  var HTML_MIME_TYPE = 'text/html';\n",
       "  var EXEC_MIME_TYPE = 'application/vnd.bokehjs_exec.v0+json';\n",
       "  var CLASS_NAME = 'output_bokeh rendered_html';\n",
       "\n",
       "  /**\n",
       "   * Render data to the DOM node\n",
       "   */\n",
       "  function render(props, node) {\n",
       "    var script = document.createElement(\"script\");\n",
       "    node.appendChild(script);\n",
       "  }\n",
       "\n",
       "  /**\n",
       "   * Handle when an output is cleared or removed\n",
       "   */\n",
       "  function handleClearOutput(event, handle) {\n",
       "    var cell = handle.cell;\n",
       "\n",
       "    var id = cell.output_area._bokeh_element_id;\n",
       "    var server_id = cell.output_area._bokeh_server_id;\n",
       "    // Clean up Bokeh references\n",
       "    if (id != null && id in Bokeh.index) {\n",
       "      Bokeh.index[id].model.document.clear();\n",
       "      delete Bokeh.index[id];\n",
       "    }\n",
       "\n",
       "    if (server_id !== undefined) {\n",
       "      // Clean up Bokeh references\n",
       "      var cmd = \"from bokeh.io.state import curstate; print(curstate().uuid_to_server['\" + server_id + \"'].get_sessions()[0].document.roots[0]._id)\";\n",
       "      cell.notebook.kernel.execute(cmd, {\n",
       "        iopub: {\n",
       "          output: function(msg) {\n",
       "            var id = msg.content.text.trim();\n",
       "            if (id in Bokeh.index) {\n",
       "              Bokeh.index[id].model.document.clear();\n",
       "              delete Bokeh.index[id];\n",
       "            }\n",
       "          }\n",
       "        }\n",
       "      });\n",
       "      // Destroy server and session\n",
       "      var cmd = \"import bokeh.io.notebook as ion; ion.destroy_server('\" + server_id + \"')\";\n",
       "      cell.notebook.kernel.execute(cmd);\n",
       "    }\n",
       "  }\n",
       "\n",
       "  /**\n",
       "   * Handle when a new output is added\n",
       "   */\n",
       "  function handleAddOutput(event, handle) {\n",
       "    var output_area = handle.output_area;\n",
       "    var output = handle.output;\n",
       "\n",
       "    // limit handleAddOutput to display_data with EXEC_MIME_TYPE content only\n",
       "    if ((output.output_type != \"display_data\") || (!output.data.hasOwnProperty(EXEC_MIME_TYPE))) {\n",
       "      return\n",
       "    }\n",
       "\n",
       "    var toinsert = output_area.element.find(\".\" + CLASS_NAME.split(' ')[0]);\n",
       "\n",
       "    if (output.metadata[EXEC_MIME_TYPE][\"id\"] !== undefined) {\n",
       "      toinsert[toinsert.length - 1].firstChild.textContent = output.data[JS_MIME_TYPE];\n",
       "      // store reference to embed id on output_area\n",
       "      output_area._bokeh_element_id = output.metadata[EXEC_MIME_TYPE][\"id\"];\n",
       "    }\n",
       "    if (output.metadata[EXEC_MIME_TYPE][\"server_id\"] !== undefined) {\n",
       "      var bk_div = document.createElement(\"div\");\n",
       "      bk_div.innerHTML = output.data[HTML_MIME_TYPE];\n",
       "      var script_attrs = bk_div.children[0].attributes;\n",
       "      for (var i = 0; i < script_attrs.length; i++) {\n",
       "        toinsert[toinsert.length - 1].firstChild.setAttribute(script_attrs[i].name, script_attrs[i].value);\n",
       "        toinsert[toinsert.length - 1].firstChild.textContent = bk_div.children[0].textContent\n",
       "      }\n",
       "      // store reference to server id on output_area\n",
       "      output_area._bokeh_server_id = output.metadata[EXEC_MIME_TYPE][\"server_id\"];\n",
       "    }\n",
       "  }\n",
       "\n",
       "  function register_renderer(events, OutputArea) {\n",
       "\n",
       "    function append_mime(data, metadata, element) {\n",
       "      // create a DOM node to render to\n",
       "      var toinsert = this.create_output_subarea(\n",
       "        metadata,\n",
       "        CLASS_NAME,\n",
       "        EXEC_MIME_TYPE\n",
       "      );\n",
       "      this.keyboard_manager.register_events(toinsert);\n",
       "      // Render to node\n",
       "      var props = {data: data, metadata: metadata[EXEC_MIME_TYPE]};\n",
       "      render(props, toinsert[toinsert.length - 1]);\n",
       "      element.append(toinsert);\n",
       "      return toinsert\n",
       "    }\n",
       "\n",
       "    /* Handle when an output is cleared or removed */\n",
       "    events.on('clear_output.CodeCell', handleClearOutput);\n",
       "    events.on('delete.Cell', handleClearOutput);\n",
       "\n",
       "    /* Handle when a new output is added */\n",
       "    events.on('output_added.OutputArea', handleAddOutput);\n",
       "\n",
       "    /**\n",
       "     * Register the mime type and append_mime function with output_area\n",
       "     */\n",
       "    OutputArea.prototype.register_mime_type(EXEC_MIME_TYPE, append_mime, {\n",
       "      /* Is output safe? */\n",
       "      safe: true,\n",
       "      /* Index of renderer in `output_area.display_order` */\n",
       "      index: 0\n",
       "    });\n",
       "  }\n",
       "\n",
       "  // register the mime type if in Jupyter Notebook environment and previously unregistered\n",
       "  if (root.Jupyter !== undefined) {\n",
       "    var events = require('base/js/events');\n",
       "    var OutputArea = require('notebook/js/outputarea').OutputArea;\n",
       "\n",
       "    if (OutputArea.prototype.mime_types().indexOf(EXEC_MIME_TYPE) == -1) {\n",
       "      register_renderer(events, OutputArea);\n",
       "    }\n",
       "  }\n",
       "\n",
       "  \n",
       "  if (typeof (root._bokeh_timeout) === \"undefined\" || force === true) {\n",
       "    root._bokeh_timeout = Date.now() + 5000;\n",
       "    root._bokeh_failed_load = false;\n",
       "  }\n",
       "\n",
       "  var NB_LOAD_WARNING = {'data': {'text/html':\n",
       "     \"<div style='background-color: #fdd'>\\n\"+\n",
       "     \"<p>\\n\"+\n",
       "     \"BokehJS does not appear to have successfully loaded. If loading BokehJS from CDN, this \\n\"+\n",
       "     \"may be due to a slow or bad network connection. Possible fixes:\\n\"+\n",
       "     \"</p>\\n\"+\n",
       "     \"<ul>\\n\"+\n",
       "     \"<li>re-rerun `output_notebook()` to attempt to load from CDN again, or</li>\\n\"+\n",
       "     \"<li>use INLINE resources instead, as so:</li>\\n\"+\n",
       "     \"</ul>\\n\"+\n",
       "     \"<code>\\n\"+\n",
       "     \"from bokeh.resources import INLINE\\n\"+\n",
       "     \"output_notebook(resources=INLINE)\\n\"+\n",
       "     \"</code>\\n\"+\n",
       "     \"</div>\"}};\n",
       "\n",
       "  function display_loaded() {\n",
       "    var el = document.getElementById(\"1051\");\n",
       "    if (el != null) {\n",
       "      el.textContent = \"BokehJS is loading...\";\n",
       "    }\n",
       "    if (root.Bokeh !== undefined) {\n",
       "      if (el != null) {\n",
       "        el.textContent = \"BokehJS \" + root.Bokeh.version + \" successfully loaded.\";\n",
       "      }\n",
       "    } else if (Date.now() < root._bokeh_timeout) {\n",
       "      setTimeout(display_loaded, 100)\n",
       "    }\n",
       "  }\n",
       "\n",
       "\n",
       "  function run_callbacks() {\n",
       "    try {\n",
       "      root._bokeh_onload_callbacks.forEach(function(callback) {\n",
       "        if (callback != null)\n",
       "          callback();\n",
       "      });\n",
       "    } finally {\n",
       "      delete root._bokeh_onload_callbacks\n",
       "    }\n",
       "    console.debug(\"Bokeh: all callbacks have finished\");\n",
       "  }\n",
       "\n",
       "  function load_libs(css_urls, js_urls, callback) {\n",
       "    if (css_urls == null) css_urls = [];\n",
       "    if (js_urls == null) js_urls = [];\n",
       "\n",
       "    root._bokeh_onload_callbacks.push(callback);\n",
       "    if (root._bokeh_is_loading > 0) {\n",
       "      console.debug(\"Bokeh: BokehJS is being loaded, scheduling callback at\", now());\n",
       "      return null;\n",
       "    }\n",
       "    if (js_urls == null || js_urls.length === 0) {\n",
       "      run_callbacks();\n",
       "      return null;\n",
       "    }\n",
       "    console.debug(\"Bokeh: BokehJS not loaded, scheduling load and callback at\", now());\n",
       "    root._bokeh_is_loading = css_urls.length + js_urls.length;\n",
       "\n",
       "    function on_load() {\n",
       "      root._bokeh_is_loading--;\n",
       "      if (root._bokeh_is_loading === 0) {\n",
       "        console.debug(\"Bokeh: all BokehJS libraries/stylesheets loaded\");\n",
       "        run_callbacks()\n",
       "      }\n",
       "    }\n",
       "\n",
       "    function on_error() {\n",
       "      console.error(\"failed to load \" + url);\n",
       "    }\n",
       "\n",
       "    for (var i = 0; i < css_urls.length; i++) {\n",
       "      var url = css_urls[i];\n",
       "      const element = document.createElement(\"link\");\n",
       "      element.onload = on_load;\n",
       "      element.onerror = on_error;\n",
       "      element.rel = \"stylesheet\";\n",
       "      element.type = \"text/css\";\n",
       "      element.href = url;\n",
       "      console.debug(\"Bokeh: injecting link tag for BokehJS stylesheet: \", url);\n",
       "      document.body.appendChild(element);\n",
       "    }\n",
       "\n",
       "    for (var i = 0; i < js_urls.length; i++) {\n",
       "      var url = js_urls[i];\n",
       "      var element = document.createElement('script');\n",
       "      element.onload = on_load;\n",
       "      element.onerror = on_error;\n",
       "      element.async = false;\n",
       "      element.src = url;\n",
       "      \n",
       "      console.debug(\"Bokeh: injecting script tag for BokehJS library: \", url);\n",
       "      document.head.appendChild(element);\n",
       "    }\n",
       "  };var element = document.getElementById(\"1051\");\n",
       "  if (element == null) {\n",
       "    console.error(\"Bokeh: ERROR: autoload.js configured with elementid '1051' but no matching script tag was found. \")\n",
       "    return false;\n",
       "  }\n",
       "\n",
       "  function inject_raw_css(css) {\n",
       "    const element = document.createElement(\"style\");\n",
       "    element.appendChild(document.createTextNode(css));\n",
       "    document.body.appendChild(element);\n",
       "  }\n",
       "\n",
       "  \n",
       "  var js_urls = [\"https://cdn.bokeh.org/bokeh/release/bokeh-2.0.0.min.js\", \"https://cdn.bokeh.org/bokeh/release/bokeh-widgets-2.0.0.min.js\", \"https://cdn.bokeh.org/bokeh/release/bokeh-tables-2.0.0.min.js\", \"https://cdn.bokeh.org/bokeh/release/bokeh-gl-2.0.0.min.js\"];\n",
       "  var css_urls = [];\n",
       "  \n",
       "\n",
       "  var inline_js = [\n",
       "    function(Bokeh) {\n",
       "      Bokeh.set_log_level(\"info\");\n",
       "    },\n",
       "    function(Bokeh) {\n",
       "    \n",
       "    \n",
       "    }\n",
       "  ];\n",
       "\n",
       "  function run_inline_js() {\n",
       "    \n",
       "    if (root.Bokeh !== undefined || force === true) {\n",
       "      \n",
       "    for (var i = 0; i < inline_js.length; i++) {\n",
       "      inline_js[i].call(root, root.Bokeh);\n",
       "    }\n",
       "    if (force === true) {\n",
       "        display_loaded();\n",
       "      }} else if (Date.now() < root._bokeh_timeout) {\n",
       "      setTimeout(run_inline_js, 100);\n",
       "    } else if (!root._bokeh_failed_load) {\n",
       "      console.log(\"Bokeh: BokehJS failed to load within specified timeout.\");\n",
       "      root._bokeh_failed_load = true;\n",
       "    } else if (force !== true) {\n",
       "      var cell = $(document.getElementById(\"1051\")).parents('.cell').data().cell;\n",
       "      cell.output_area.append_execute_result(NB_LOAD_WARNING)\n",
       "    }\n",
       "\n",
       "  }\n",
       "\n",
       "  if (root._bokeh_is_loading === 0) {\n",
       "    console.debug(\"Bokeh: BokehJS loaded, going straight to plotting\");\n",
       "    run_inline_js();\n",
       "  } else {\n",
       "    load_libs(css_urls, js_urls, function() {\n",
       "      console.debug(\"Bokeh: BokehJS plotting callback run at\", now());\n",
       "      run_inline_js();\n",
       "    });\n",
       "  }\n",
       "}(window));"
      ],
      "application/vnd.bokehjs_load.v0+json": "\n(function(root) {\n  function now() {\n    return new Date();\n  }\n\n  var force = true;\n\n  if (typeof root._bokeh_onload_callbacks === \"undefined\" || force === true) {\n    root._bokeh_onload_callbacks = [];\n    root._bokeh_is_loading = undefined;\n  }\n\n  \n\n  \n  if (typeof (root._bokeh_timeout) === \"undefined\" || force === true) {\n    root._bokeh_timeout = Date.now() + 5000;\n    root._bokeh_failed_load = false;\n  }\n\n  var NB_LOAD_WARNING = {'data': {'text/html':\n     \"<div style='background-color: #fdd'>\\n\"+\n     \"<p>\\n\"+\n     \"BokehJS does not appear to have successfully loaded. If loading BokehJS from CDN, this \\n\"+\n     \"may be due to a slow or bad network connection. Possible fixes:\\n\"+\n     \"</p>\\n\"+\n     \"<ul>\\n\"+\n     \"<li>re-rerun `output_notebook()` to attempt to load from CDN again, or</li>\\n\"+\n     \"<li>use INLINE resources instead, as so:</li>\\n\"+\n     \"</ul>\\n\"+\n     \"<code>\\n\"+\n     \"from bokeh.resources import INLINE\\n\"+\n     \"output_notebook(resources=INLINE)\\n\"+\n     \"</code>\\n\"+\n     \"</div>\"}};\n\n  function display_loaded() {\n    var el = document.getElementById(\"1051\");\n    if (el != null) {\n      el.textContent = \"BokehJS is loading...\";\n    }\n    if (root.Bokeh !== undefined) {\n      if (el != null) {\n        el.textContent = \"BokehJS \" + root.Bokeh.version + \" successfully loaded.\";\n      }\n    } else if (Date.now() < root._bokeh_timeout) {\n      setTimeout(display_loaded, 100)\n    }\n  }\n\n\n  function run_callbacks() {\n    try {\n      root._bokeh_onload_callbacks.forEach(function(callback) {\n        if (callback != null)\n          callback();\n      });\n    } finally {\n      delete root._bokeh_onload_callbacks\n    }\n    console.debug(\"Bokeh: all callbacks have finished\");\n  }\n\n  function load_libs(css_urls, js_urls, callback) {\n    if (css_urls == null) css_urls = [];\n    if (js_urls == null) js_urls = [];\n\n    root._bokeh_onload_callbacks.push(callback);\n    if (root._bokeh_is_loading > 0) {\n      console.debug(\"Bokeh: BokehJS is being loaded, scheduling callback at\", now());\n      return null;\n    }\n    if (js_urls == null || js_urls.length === 0) {\n      run_callbacks();\n      return null;\n    }\n    console.debug(\"Bokeh: BokehJS not loaded, scheduling load and callback at\", now());\n    root._bokeh_is_loading = css_urls.length + js_urls.length;\n\n    function on_load() {\n      root._bokeh_is_loading--;\n      if (root._bokeh_is_loading === 0) {\n        console.debug(\"Bokeh: all BokehJS libraries/stylesheets loaded\");\n        run_callbacks()\n      }\n    }\n\n    function on_error() {\n      console.error(\"failed to load \" + url);\n    }\n\n    for (var i = 0; i < css_urls.length; i++) {\n      var url = css_urls[i];\n      const element = document.createElement(\"link\");\n      element.onload = on_load;\n      element.onerror = on_error;\n      element.rel = \"stylesheet\";\n      element.type = \"text/css\";\n      element.href = url;\n      console.debug(\"Bokeh: injecting link tag for BokehJS stylesheet: \", url);\n      document.body.appendChild(element);\n    }\n\n    for (var i = 0; i < js_urls.length; i++) {\n      var url = js_urls[i];\n      var element = document.createElement('script');\n      element.onload = on_load;\n      element.onerror = on_error;\n      element.async = false;\n      element.src = url;\n      \n      console.debug(\"Bokeh: injecting script tag for BokehJS library: \", url);\n      document.head.appendChild(element);\n    }\n  };var element = document.getElementById(\"1051\");\n  if (element == null) {\n    console.error(\"Bokeh: ERROR: autoload.js configured with elementid '1051' but no matching script tag was found. \")\n    return false;\n  }\n\n  function inject_raw_css(css) {\n    const element = document.createElement(\"style\");\n    element.appendChild(document.createTextNode(css));\n    document.body.appendChild(element);\n  }\n\n  \n  var js_urls = [\"https://cdn.bokeh.org/bokeh/release/bokeh-2.0.0.min.js\", \"https://cdn.bokeh.org/bokeh/release/bokeh-widgets-2.0.0.min.js\", \"https://cdn.bokeh.org/bokeh/release/bokeh-tables-2.0.0.min.js\", \"https://cdn.bokeh.org/bokeh/release/bokeh-gl-2.0.0.min.js\"];\n  var css_urls = [];\n  \n\n  var inline_js = [\n    function(Bokeh) {\n      Bokeh.set_log_level(\"info\");\n    },\n    function(Bokeh) {\n    \n    \n    }\n  ];\n\n  function run_inline_js() {\n    \n    if (root.Bokeh !== undefined || force === true) {\n      \n    for (var i = 0; i < inline_js.length; i++) {\n      inline_js[i].call(root, root.Bokeh);\n    }\n    if (force === true) {\n        display_loaded();\n      }} else if (Date.now() < root._bokeh_timeout) {\n      setTimeout(run_inline_js, 100);\n    } else if (!root._bokeh_failed_load) {\n      console.log(\"Bokeh: BokehJS failed to load within specified timeout.\");\n      root._bokeh_failed_load = true;\n    } else if (force !== true) {\n      var cell = $(document.getElementById(\"1051\")).parents('.cell').data().cell;\n      cell.output_area.append_execute_result(NB_LOAD_WARNING)\n    }\n\n  }\n\n  if (root._bokeh_is_loading === 0) {\n    console.debug(\"Bokeh: BokehJS loaded, going straight to plotting\");\n    run_inline_js();\n  } else {\n    load_libs(css_urls, js_urls, function() {\n      console.debug(\"Bokeh: BokehJS plotting callback run at\", now());\n      run_inline_js();\n    });\n  }\n}(window));"
     },
     "metadata": {},
     "output_type": "display_data"
    },
    {
     "data": {
      "text/html": [
       "\n",
       "\n",
       "\n",
       "\n",
       "\n",
       "\n",
       "  <div class=\"bk-root\" id=\"124a7205-1100-48ea-a571-9a11382e7b87\" data-root-id=\"1006\"></div>\n"
      ]
     },
     "metadata": {},
     "output_type": "display_data"
    },
    {
     "data": {
      "application/javascript": [
       "(function(root) {\n",
       "  function embed_document(root) {\n",
       "    \n",
       "  var docs_json = {\"06b1848f-b3f0-42a1-9fce-8eb7c4d17dc3\":{\"roots\":{\"references\":[{\"attributes\":{\"below\":[{\"id\":\"1017\"}],\"center\":[{\"id\":\"1020\"},{\"id\":\"1024\"},{\"id\":\"1047\"}],\"left\":[{\"id\":\"1021\"}],\"renderers\":[{\"id\":\"1033\"},{\"id\":\"1038\"}],\"sizing_mode\":\"scale_both\",\"title\":{\"id\":\"1007\"},\"toolbar\":{\"id\":\"1025\"},\"x_range\":{\"id\":\"1009\"},\"x_scale\":{\"id\":\"1013\"},\"y_range\":{\"id\":\"1011\"},\"y_scale\":{\"id\":\"1015\"}},\"id\":\"1006\",\"subtype\":\"Figure\",\"type\":\"Plot\"},{\"attributes\":{\"line_alpha\":0.8,\"line_color\":\"crimson\",\"line_width\":2.5,\"x\":{\"field\":\"Date\"},\"y\":{\"field\":\"Exp_est\"}},\"id\":\"1036\",\"type\":\"Line\"},{\"attributes\":{\"days\":[\"%d %B %Y\"],\"months\":[\"%d %B %Y\"]},\"id\":\"1049\",\"type\":\"DatetimeTickFormatter\"},{\"attributes\":{\"line_alpha\":0.1,\"line_color\":\"crimson\",\"line_width\":2.5,\"x\":{\"field\":\"Date\"},\"y\":{\"field\":\"Exp_est\"}},\"id\":\"1037\",\"type\":\"Line\"},{\"attributes\":{\"items\":[{\"id\":\"1048\"}],\"label_text_font_size\":\"13pt\",\"location\":\"top_left\"},\"id\":\"1047\",\"type\":\"Legend\"},{\"attributes\":{\"callback\":null,\"formatters\":{\"@Date\":\"datetime\"},\"names\":[\"dots\"],\"tooltips\":[[\"Date\",\"@Date{%F}\"],[\"Infectious\",\"@Infectious\"],[\"Recover\",\"@Recover\"],[\"Death\",\"@Death\"]]},\"id\":\"1002\",\"type\":\"HoverTool\"},{\"attributes\":{\"source\":{\"id\":\"1001\"}},\"id\":\"1039\",\"type\":\"CDSView\"},{\"attributes\":{\"data\":{\"Date\":{\"__ndarray__\":\"AAAAQqQ+d0IAAMCn9j53QgAAgA1JP3dCAABAc5s/d0IAAADZ7T93QgAAwD5AQHdCAACApJJAd0IAAEAK5UB3QgAAAHA3QXdCAADA1YlBd0IAAIA73EF3QgAAQKEuQndCAAAAB4FCd0IAAMBs00J3QgAAgNIlQ3dCAABAOHhDd0IAAACeykN3QgAAwAMdRHdCAACAaW9Ed0IAAEDPwUR3QgAAADUURXdCAADAmmZFd0IAAIAAuUV3QgAAQGYLRndCAAAAzF1Gd0IAAMAxsEZ3QgAAgJcCR3dCAABA/VRHd0IAAABjp0d3QgAAwMj5R3dCAACALkxId0IAAECUnkh3QgAAAPrwSHdCAADAX0NJd0IAAIDFlUl3QgAAQCvoSXdCAAAAkTpKd0IAAMD2jEp3QgAAgFzfSndCAABAwjFLd0IAAAAohEt3QgAAwI3WS3dCAACA8yhMd0IAAEBZe0x3QgAAAL/NTHdCAADAJCBNd0IAAICKck13QgAAQPDETXdC\",\"dtype\":\"float64\",\"shape\":[48]},\"Death\":[17,17,17,17,17,17,17,17,17,17,18,19,19,19,19,19,19,19,19,19,19,19,19,19,19,19,19,19,19,19,19,19,19,19,19,19,19,19,20,23,25,26,27,28,28,32,36,39],\"Exp_est\":{\"__ndarray__\":\"WckiPsdKk0C70dmDAGqTQKjmWzIYjJNAZiedw1Gxk0DoRqzk9tmTQJOfhAdYBpRAQBtGAs02lEASEA69tWuUQNEmye96pZRAdfx18Y7klEB1tXKabimVQJpplTuidJVAiXb4q77GlUD1tZBvZiCWQF6k1PhKgpZALhfxBy7tlkCtnkIq42GXQE+OCl1R4ZdAJGGc1nRsmEDEVIz5YASZQJA3u3VCqplAvS12m2FfmkDmTUTlJCWbQNkuaL0T/ZtAI6qRhNnonEDlHL3fSOqdQFlQylNfA59ApoL3miQboEDbiGj8ssKgQL2wZW+meaFAfLNUDWlBokCQlH80hhujQBdqmZatCaRANqwoj7YNpUCoHXLIoymmQEi/GjanX6dABuZgbSayqEBix4VjvyOqQFwRy5tNt6tAgvlEz+9vrUD6TrIZDlGvQPuxyVswr7BA6Q1ssfvNsUCOpluuIAezQEcwTBoLXbRA+iW3rl/StUBm0D1SAWq3QPrDGs8WJ7lA\",\"dtype\":\"float64\",\"shape\":[48]},\"Infectious\":[1306,1321,1336,1341,1351,1361,1370,1385,1394,1411,1421,1429,1436,1447,1455,1462,1469,1487,1510,1548,1568,1596,1621,1650,1684,1729,1773,1830,1917,2075,2227,2392,2562,2758,2937,3119,3306,3502,3695,3913,4140,4399,4664,4960,5254,5552,5866,6192],\"Recover\":[1085,1088,1088,1092,1092,1098,1108,1128,1132,1132,1137,1150,1150,1190,1196,1196,1221,1240,1253,1270,1279,1294,1302,1310,1315,1321,1325,1334,1354,1363,1369,1369,1369,1412,1422,1435,1481,1494,1534,1574,1643,1705,1759,1819,1906,2054,2324,3120],\"index\":[205,206,207,208,209,210,211,212,213,214,215,216,217,218,219,220,221,222,223,224,225,226,227,228,229,230,231,232,233,234,235,236,237,238,239,240,241,242,243,244,245,246,247,248,249,250,251,252]},\"selected\":{\"id\":\"1046\"},\"selection_policy\":{\"id\":\"1045\"}},\"id\":\"1001\",\"type\":\"ColumnDataSource\"},{\"attributes\":{},\"id\":\"1045\",\"type\":\"UnionRenderers\"},{\"attributes\":{},\"id\":\"1003\",\"type\":\"WheelZoomTool\"},{\"attributes\":{},\"id\":\"1046\",\"type\":\"Selection\"},{\"attributes\":{},\"id\":\"1004\",\"type\":\"PanTool\"},{\"attributes\":{},\"id\":\"1015\",\"type\":\"LinearScale\"},{\"attributes\":{},\"id\":\"1009\",\"type\":\"DataRange1d\"},{\"attributes\":{\"axis_label_text_font_size\":\"16px\",\"formatter\":{\"id\":\"1049\"},\"major_label_orientation\":0.5235987755982988,\"major_label_text_font_size\":\"14px\",\"ticker\":{\"id\":\"1018\"}},\"id\":\"1017\",\"type\":\"LinearAxis\"},{\"attributes\":{},\"id\":\"1011\",\"type\":\"DataRange1d\"},{\"attributes\":{\"data_source\":{\"id\":\"1001\"},\"glyph\":{\"id\":\"1036\"},\"hover_glyph\":null,\"muted_glyph\":null,\"nonselection_glyph\":{\"id\":\"1037\"},\"selection_glyph\":null,\"view\":{\"id\":\"1039\"}},\"id\":\"1038\",\"type\":\"GlyphRenderer\"},{\"attributes\":{},\"id\":\"1018\",\"type\":\"BasicTicker\"},{\"attributes\":{},\"id\":\"1005\",\"type\":\"ResetTool\"},{\"attributes\":{\"fill_alpha\":{\"value\":0.8},\"fill_color\":{\"value\":\"#1f77b4\"},\"line_alpha\":{\"value\":0.8},\"line_color\":{\"value\":\"#1f77b4\"},\"size\":{\"units\":\"screen\",\"value\":10},\"x\":{\"field\":\"Date\"},\"y\":{\"field\":\"Infectious\"}},\"id\":\"1031\",\"type\":\"Circle\"},{\"attributes\":{\"axis\":{\"id\":\"1017\"},\"ticker\":null},\"id\":\"1020\",\"type\":\"Grid\"},{\"attributes\":{},\"id\":\"1013\",\"type\":\"LinearScale\"},{\"attributes\":{\"axis_label\":\"Number of confirmed cases\",\"axis_label_text_font_size\":\"16px\",\"formatter\":{\"id\":\"1042\"},\"major_label_text_font_size\":\"14px\",\"ticker\":{\"id\":\"1022\"}},\"id\":\"1021\",\"type\":\"LinearAxis\"},{\"attributes\":{},\"id\":\"1022\",\"type\":\"BasicTicker\"},{\"attributes\":{\"axis\":{\"id\":\"1021\"},\"dimension\":1,\"ticker\":null},\"id\":\"1024\",\"type\":\"Grid\"},{\"attributes\":{\"source\":{\"id\":\"1001\"}},\"id\":\"1034\",\"type\":\"CDSView\"},{\"attributes\":{},\"id\":\"1042\",\"type\":\"BasicTickFormatter\"},{\"attributes\":{\"label\":{\"value\":\"Fitted exponent with \\u03bb = 0.09. R0 = 2.37+/-0.22\"},\"renderers\":[{\"id\":\"1038\"}]},\"id\":\"1048\",\"type\":\"LegendItem\"},{\"attributes\":{\"text\":\"Covid statistics for the 2nd wave in Georgia\",\"text_font_size\":{\"value\":\"16px\"}},\"id\":\"1007\",\"type\":\"Title\"},{\"attributes\":{\"data_source\":{\"id\":\"1001\"},\"glyph\":{\"id\":\"1031\"},\"hover_glyph\":null,\"muted_glyph\":null,\"name\":\"dots\",\"nonselection_glyph\":{\"id\":\"1032\"},\"selection_glyph\":null,\"view\":{\"id\":\"1034\"}},\"id\":\"1033\",\"type\":\"GlyphRenderer\"},{\"attributes\":{\"fill_alpha\":{\"value\":0.1},\"fill_color\":{\"value\":\"#1f77b4\"},\"line_alpha\":{\"value\":0.1},\"line_color\":{\"value\":\"#1f77b4\"},\"size\":{\"units\":\"screen\",\"value\":10},\"x\":{\"field\":\"Date\"},\"y\":{\"field\":\"Infectious\"}},\"id\":\"1032\",\"type\":\"Circle\"},{\"attributes\":{\"active_drag\":\"auto\",\"active_inspect\":\"auto\",\"active_multi\":null,\"active_scroll\":\"auto\",\"active_tap\":\"auto\",\"tools\":[{\"id\":\"1002\"},{\"id\":\"1003\"},{\"id\":\"1004\"},{\"id\":\"1005\"}]},\"id\":\"1025\",\"type\":\"Toolbar\"}],\"root_ids\":[\"1006\"]},\"title\":\"Bokeh Application\",\"version\":\"2.0.0\"}};\n",
       "  var render_items = [{\"docid\":\"06b1848f-b3f0-42a1-9fce-8eb7c4d17dc3\",\"root_ids\":[\"1006\"],\"roots\":{\"1006\":\"124a7205-1100-48ea-a571-9a11382e7b87\"}}];\n",
       "  root.Bokeh.embed.embed_items_notebook(docs_json, render_items);\n",
       "\n",
       "  }\n",
       "  if (root.Bokeh !== undefined) {\n",
       "    embed_document(root);\n",
       "  } else {\n",
       "    var attempts = 0;\n",
       "    var timer = setInterval(function(root) {\n",
       "      if (root.Bokeh !== undefined) {\n",
       "        clearInterval(timer);\n",
       "        embed_document(root);\n",
       "      } else {\n",
       "        attempts++;\n",
       "        if (attempts > 100) {\n",
       "          clearInterval(timer);\n",
       "          console.log(\"Bokeh: ERROR: Unable to run BokehJS code because BokehJS library is missing\");\n",
       "        }\n",
       "      }\n",
       "    }, 10, root)\n",
       "  }\n",
       "})(window);"
      ],
      "application/vnd.bokehjs_exec.v0+json": ""
     },
     "metadata": {
      "application/vnd.bokehjs_exec.v0+json": {
       "id": "1006"
      }
     },
     "output_type": "display_data"
    }
   ],
   "source": [
    "source = ColumnDataSource(C_Data)\n",
    "\n",
    "hover = HoverTool(names=[\"dots\"],formatters={'@Date': 'datetime'})\n",
    "\n",
    "TOOLTIPS = [\n",
    "      ('Date', \"@Date{%F}\"),\n",
    "      ('Infectious', \"@Infectious\"),\n",
    "      ('Recover', \"@Recover\"),\n",
    "      ('Death', \"@Death\"),\n",
    "     ]\n",
    "\n",
    "p = figure(title= \"Covid statistics for the 2nd wave in Georgia\", tools=[hover, WheelZoomTool(), PanTool(), ResetTool()], tooltips=TOOLTIPS)\n",
    "\n",
    "p.circle(x = 'Date', y = 'Infectious' , name = \"dots\", source = source,  size = 10, alpha = 0.8)\n",
    "p.line(x = 'Date', y = 'Exp_est', source = source, legend_label = \"Fitted exponent with λ = \"+ str(Lambda) +\". R0 = \" + str(R0), line_width = 2.5, alpha = 0.8, color = 'crimson')\n",
    "\n",
    "p.legend.location = \"top_left\"\n",
    "p.legend.label_text_font_size = \"13pt\"\n",
    "p.sizing_mode = \"scale_both\"\n",
    "\n",
    "p.yaxis.major_label_text_font_size = \"14px\"\n",
    "p.xaxis.major_label_text_font_size = \"14px\"\n",
    "\n",
    "p.title.text_font_size = '16px'\n",
    "\n",
    "p.xaxis.formatter=DatetimeTickFormatter(\n",
    "        days=[\"%d %B %Y\"],\n",
    "        months=[\"%d %B %Y\"]\n",
    "    )\n",
    "\n",
    "p.xaxis.major_label_orientation = math.pi/6\n",
    "\n",
    "p.xaxis.axis_label_text_font_size = '16px'\n",
    "p.yaxis.axis_label_text_font_size = '16px'\n",
    "\n",
    "p.yaxis.axis_label = \"Number of confirmed cases\"\n",
    "\n",
    "output_notebook()\n",
    "\n",
    "show(p)"
   ]
  }
 ],
 "metadata": {
  "@webio": {
   "lastCommId": null,
   "lastKernelId": null
  },
  "kernelspec": {
   "display_name": "Python 3",
   "language": "python",
   "name": "python3"
  },
  "language_info": {
   "codemirror_mode": {
    "name": "ipython",
    "version": 3
   },
   "file_extension": ".py",
   "mimetype": "text/x-python",
   "name": "python",
   "nbconvert_exporter": "python",
   "pygments_lexer": "ipython3",
   "version": "3.8.1"
  }
 },
 "nbformat": 4,
 "nbformat_minor": 4
}
